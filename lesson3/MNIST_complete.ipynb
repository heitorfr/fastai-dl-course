{
 "cells": [
  {
   "cell_type": "markdown",
   "id": "5aed3527",
   "metadata": {
    "papermill": {
     "duration": 0.010855,
     "end_time": "2024-08-05T18:22:28.334150",
     "exception": false,
     "start_time": "2024-08-05T18:22:28.323295",
     "status": "completed"
    },
    "tags": []
   },
   "source": [
    "This notebook is based on an exercise from Chapter 4 of the book [Deep Learning for Coders with Fastai and PyTorch: AI Applications Without a PhD](https://www.amazon.com/Deep-Learning-Coders-fastai-PyTorch/dp/1492045527). The chapter details the implementation of simple neural network for binary classification, using a subset of the MNIST dataset.\n",
    "\n",
    "Here we're extending that example to multi-class classification using the complete MNIST dataset. We'll use the same architectures presented in Chapter 4, which, while not state-of-the-art for the complete MNIST classification problem, serve as a valuable learning experience.\n",
    "\n",
    "For a more accurate approach, see for instance [Beginners guide to MNIST with fast.ai](https://www.kaggle.com/code/christianwallenwein/beginners-guide-to-mnist-with-fast-ai)."
   ]
  },
  {
   "cell_type": "code",
   "execution_count": 1,
   "id": "dec18f18",
   "metadata": {
    "_cell_guid": "b1076dfc-b9ad-4769-8c92-a6c4dae69d19",
    "_uuid": "8f2839f25d086af736a60e9eeb907d3b93b6e0e5",
    "execution": {
     "iopub.execute_input": "2024-08-05T18:22:28.355895Z",
     "iopub.status.busy": "2024-08-05T18:22:28.355545Z",
     "iopub.status.idle": "2024-08-05T18:22:55.429200Z",
     "shell.execute_reply": "2024-08-05T18:22:55.427940Z"
    },
    "papermill": {
     "duration": 27.087879,
     "end_time": "2024-08-05T18:22:55.432157",
     "exception": false,
     "start_time": "2024-08-05T18:22:28.344278",
     "status": "completed"
    },
    "tags": []
   },
   "outputs": [],
   "source": [
    "#hide\n",
    "!pip install -Uqq fastai nbdev\n",
    "\n",
    "from fastai import *\n",
    "from fastai.vision import *\n",
    "from fastai.vision.all import *\n",
    "\n",
    "import torch\n",
    "import torch.nn.functional as F"
   ]
  },
  {
   "cell_type": "markdown",
   "id": "1d2f28ed",
   "metadata": {
    "papermill": {
     "duration": 0.010734,
     "end_time": "2024-08-05T18:22:55.454663",
     "exception": false,
     "start_time": "2024-08-05T18:22:55.443929",
     "status": "completed"
    },
    "tags": []
   },
   "source": [
    "We start by downloading and unzipping the full MNIST dataset. The dataset is split in two folders, `training` and `testing`. Under each we have a folder for each digit `0` - `9`"
   ]
  },
  {
   "cell_type": "code",
   "execution_count": 2,
   "id": "9b4e2489",
   "metadata": {
    "execution": {
     "iopub.execute_input": "2024-08-05T18:22:55.479626Z",
     "iopub.status.busy": "2024-08-05T18:22:55.479191Z",
     "iopub.status.idle": "2024-08-05T18:23:12.792996Z",
     "shell.execute_reply": "2024-08-05T18:23:12.791930Z"
    },
    "papermill": {
     "duration": 17.329331,
     "end_time": "2024-08-05T18:23:12.795202",
     "exception": false,
     "start_time": "2024-08-05T18:22:55.465871",
     "status": "completed"
    },
    "tags": []
   },
   "outputs": [
    {
     "data": {
      "text/html": [
       "\n",
       "<style>\n",
       "    /* Turns off some styling */\n",
       "    progress {\n",
       "        /* gets rid of default border in Firefox and Opera. */\n",
       "        border: none;\n",
       "        /* Needs to be in here for Safari polyfill so background images work as expected. */\n",
       "        background-size: auto;\n",
       "    }\n",
       "    progress:not([value]), progress:not([value])::-webkit-progress-bar {\n",
       "        background: repeating-linear-gradient(45deg, #7e7e7e, #7e7e7e 10px, #5c5c5c 10px, #5c5c5c 20px);\n",
       "    }\n",
       "    .progress-bar-interrupted, .progress-bar-interrupted::-webkit-progress-bar {\n",
       "        background: #F44336;\n",
       "    }\n",
       "</style>\n"
      ],
      "text/plain": [
       "<IPython.core.display.HTML object>"
      ]
     },
     "metadata": {},
     "output_type": "display_data"
    },
    {
     "data": {
      "text/html": [
       "\n",
       "    <div>\n",
       "      <progress value='15687680' class='' max='15683414' style='width:300px; height:20px; vertical-align: middle;'></progress>\n",
       "      100.03% [15687680/15683414 00:00&lt;00:00]\n",
       "    </div>\n",
       "    "
      ],
      "text/plain": [
       "<IPython.core.display.HTML object>"
      ]
     },
     "metadata": {},
     "output_type": "display_data"
    },
    {
     "data": {
      "text/plain": [
       "[Path('training/0'),\n",
       " Path('training/1'),\n",
       " Path('training/2'),\n",
       " Path('training/3'),\n",
       " Path('training/4'),\n",
       " Path('training/5'),\n",
       " Path('training/6'),\n",
       " Path('training/7'),\n",
       " Path('training/8'),\n",
       " Path('training/9')]"
      ]
     },
     "execution_count": 2,
     "metadata": {},
     "output_type": "execute_result"
    }
   ],
   "source": [
    "path = untar_data(URLs.MNIST)\n",
    "Path.BASE_PATH = path\n",
    "sorted((path/'training').ls())"
   ]
  },
  {
   "cell_type": "markdown",
   "id": "4b4e7a9a",
   "metadata": {
    "papermill": {
     "duration": 0.011034,
     "end_time": "2024-08-05T18:23:12.817664",
     "exception": false,
     "start_time": "2024-08-05T18:23:12.806630",
     "status": "completed"
    },
    "tags": []
   },
   "source": [
    "We'll create a list of tensors, where each tensor contains the data for all the images for a given digit - each tensor has shape [N,28,28] where N is the number of images for a given digit and each image is a matrix of 28x28 pixels. For that we'll create a couple of auxiliary functions:\n",
    "\n",
    "`path_to_tensor` returns a tensor with all the images in a given path.\n",
    "\n",
    "`path_to_tensor_list` returns a list of tensors, one for each directory under `path`. Since we sort the result of `path.ls`, the tensor list will also be sorted, from digit 0 to 9. i.e. the fist list element contains the tensor with all the images of the digit 0, and so on."
   ]
  },
  {
   "cell_type": "code",
   "execution_count": 3,
   "id": "f423b7dc",
   "metadata": {
    "execution": {
     "iopub.execute_input": "2024-08-05T18:23:12.840892Z",
     "iopub.status.busy": "2024-08-05T18:23:12.840598Z",
     "iopub.status.idle": "2024-08-05T18:23:12.846119Z",
     "shell.execute_reply": "2024-08-05T18:23:12.845121Z"
    },
    "papermill": {
     "duration": 0.019618,
     "end_time": "2024-08-05T18:23:12.848338",
     "exception": false,
     "start_time": "2024-08-05T18:23:12.828720",
     "status": "completed"
    },
    "tags": []
   },
   "outputs": [],
   "source": [
    "def path_to_tensor(path):\n",
    "    return torch.stack([tensor(Image.open(o)) for o in path.ls()])\n",
    "    \n",
    "def path_to_tensor_list(path):\n",
    "    return list(map(path_to_tensor, sorted(path.ls())))"
   ]
  },
  {
   "cell_type": "code",
   "execution_count": 4,
   "id": "20d82b14",
   "metadata": {
    "execution": {
     "iopub.execute_input": "2024-08-05T18:23:12.871527Z",
     "iopub.status.busy": "2024-08-05T18:23:12.871193Z",
     "iopub.status.idle": "2024-08-05T18:23:33.449095Z",
     "shell.execute_reply": "2024-08-05T18:23:33.448051Z"
    },
    "papermill": {
     "duration": 20.59219,
     "end_time": "2024-08-05T18:23:33.451509",
     "exception": false,
     "start_time": "2024-08-05T18:23:12.859319",
     "status": "completed"
    },
    "tags": []
   },
   "outputs": [
    {
     "data": {
      "text/plain": [
       "(torch.Size([5923, 28, 28]), torch.Size([980, 28, 28]))"
      ]
     },
     "execution_count": 4,
     "metadata": {},
     "output_type": "execute_result"
    }
   ],
   "source": [
    "train_tensors = path_to_tensor_list(path/'training')\n",
    "test_tensors = path_to_tensor_list(path/'testing')\n",
    "\n",
    "train_tensors[0].shape, test_tensors[0].shape"
   ]
  },
  {
   "cell_type": "code",
   "execution_count": 5,
   "id": "a9094454",
   "metadata": {
    "execution": {
     "iopub.execute_input": "2024-08-05T18:23:33.476366Z",
     "iopub.status.busy": "2024-08-05T18:23:33.475969Z",
     "iopub.status.idle": "2024-08-05T18:23:33.604489Z",
     "shell.execute_reply": "2024-08-05T18:23:33.603040Z"
    },
    "papermill": {
     "duration": 0.145244,
     "end_time": "2024-08-05T18:23:33.608280",
     "exception": false,
     "start_time": "2024-08-05T18:23:33.463036",
     "status": "completed"
    },
    "tags": []
   },
   "outputs": [
    {
     "data": {
      "text/plain": [
       "<Axes: >"
      ]
     },
     "execution_count": 5,
     "metadata": {},
     "output_type": "execute_result"
    },
    {
     "data": {
      "image/png": "[encoded data removed]",
      "text/plain": [
       "<Figure size 100x100 with 1 Axes>"
      ]
     },
     "metadata": {},
     "output_type": "display_data"
    },
    {
     "data": {
      "image/png": "[encoded data removed]",
      "text/plain": [
       "<Figure size 100x100 with 1 Axes>"
      ]
     },
     "metadata": {},
     "output_type": "display_data"
    }
   ],
   "source": [
    "show_image(train_tensors[7][0])\n",
    "show_image(test_tensors[7][0])"
   ]
  },
  {
   "cell_type": "markdown",
   "id": "3efec029",
   "metadata": {
    "papermill": {
     "duration": 0.027453,
     "end_time": "2024-08-05T18:23:33.664638",
     "exception": false,
     "start_time": "2024-08-05T18:23:33.637185",
     "status": "completed"
    },
    "tags": []
   },
   "source": [
    "We'll now concatenate all tensors to create a consolidated train and test tensor. We also change the shape - so that each image is given as a sequence of 784 pixels - and we normalize pixel values."
   ]
  },
  {
   "cell_type": "code",
   "execution_count": 6,
   "id": "2f78d9a6",
   "metadata": {
    "execution": {
     "iopub.execute_input": "2024-08-05T18:23:33.710572Z",
     "iopub.status.busy": "2024-08-05T18:23:33.709012Z",
     "iopub.status.idle": "2024-08-05T18:23:33.926902Z",
     "shell.execute_reply": "2024-08-05T18:23:33.925938Z"
    },
    "papermill": {
     "duration": 0.236225,
     "end_time": "2024-08-05T18:23:33.929578",
     "exception": false,
     "start_time": "2024-08-05T18:23:33.693353",
     "status": "completed"
    },
    "tags": []
   },
   "outputs": [
    {
     "data": {
      "text/plain": [
       "(torch.Size([60000, 784]), torch.Size([10000, 784]))"
      ]
     },
     "execution_count": 6,
     "metadata": {},
     "output_type": "execute_result"
    }
   ],
   "source": [
    "train_x = torch.cat(train_tensors).view(-1, 28*28).float()/255\n",
    "test_x = torch.cat(test_tensors).view(-1, 28*28).float()/255\n",
    "\n",
    "train_x.shape, test_x.shape"
   ]
  },
  {
   "cell_type": "code",
   "execution_count": 7,
   "id": "5662bf23",
   "metadata": {
    "execution": {
     "iopub.execute_input": "2024-08-05T18:23:33.957188Z",
     "iopub.status.busy": "2024-08-05T18:23:33.956809Z",
     "iopub.status.idle": "2024-08-05T18:23:34.011917Z",
     "shell.execute_reply": "2024-08-05T18:23:34.010289Z"
    },
    "papermill": {
     "duration": 0.075041,
     "end_time": "2024-08-05T18:23:34.017986",
     "exception": false,
     "start_time": "2024-08-05T18:23:33.942945",
     "status": "completed"
    },
    "tags": []
   },
   "outputs": [
    {
     "data": {
      "text/plain": [
       "<Axes: >"
      ]
     },
     "execution_count": 7,
     "metadata": {},
     "output_type": "execute_result"
    },
    {
     "data": {
      "image/png": "[encoded data removed]",
      "text/plain": [
       "<Figure size 100x100 with 1 Axes>"
      ]
     },
     "metadata": {},
     "output_type": "display_data"
    }
   ],
   "source": [
    "show_image(train_x[13000].view(28,28))"
   ]
  },
  {
   "cell_type": "markdown",
   "id": "6891a4c0",
   "metadata": {
    "papermill": {
     "duration": 0.027548,
     "end_time": "2024-08-05T18:23:34.073661",
     "exception": false,
     "start_time": "2024-08-05T18:23:34.046113",
     "status": "completed"
    },
    "tags": []
   },
   "source": [
    "Now let's create the target tensors using one-hot encoding. The target tensor will have 10 columns, one for each class (the digits 0 to 9). For that we'll use the `one_hot`PyTorch function.\n",
    "\n",
    "As a first step we'll create a list of tuples containing the number of images for each digit."
   ]
  },
  {
   "cell_type": "code",
   "execution_count": 8,
   "id": "222aa564",
   "metadata": {
    "execution": {
     "iopub.execute_input": "2024-08-05T18:23:34.129452Z",
     "iopub.status.busy": "2024-08-05T18:23:34.127834Z",
     "iopub.status.idle": "2024-08-05T18:23:34.135724Z",
     "shell.execute_reply": "2024-08-05T18:23:34.135052Z"
    },
    "papermill": {
     "duration": 0.037975,
     "end_time": "2024-08-05T18:23:34.137529",
     "exception": false,
     "start_time": "2024-08-05T18:23:34.099554",
     "status": "completed"
    },
    "tags": []
   },
   "outputs": [
    {
     "data": {
      "text/plain": [
       "[(0, 5923),\n",
       " (1, 6742),\n",
       " (2, 5958),\n",
       " (3, 6131),\n",
       " (4, 5842),\n",
       " (5, 5421),\n",
       " (6, 5918),\n",
       " (7, 6265),\n",
       " (8, 5851),\n",
       " (9, 5949)]"
      ]
     },
     "execution_count": 8,
     "metadata": {},
     "output_type": "execute_result"
    }
   ],
   "source": [
    "train_labels = list(enumerate(map(lambda t: t.shape[0], train_tensors)))\n",
    "train_labels"
   ]
  },
  {
   "cell_type": "markdown",
   "id": "dc57e53a",
   "metadata": {
    "papermill": {
     "duration": 0.012396,
     "end_time": "2024-08-05T18:23:34.162931",
     "exception": false,
     "start_time": "2024-08-05T18:23:34.150535",
     "status": "completed"
    },
    "tags": []
   },
   "source": [
    "`labels_to_target` receives the tuple list and returns the target tensors."
   ]
  },
  {
   "cell_type": "code",
   "execution_count": 9,
   "id": "dca3e4e9",
   "metadata": {
    "execution": {
     "iopub.execute_input": "2024-08-05T18:23:34.190105Z",
     "iopub.status.busy": "2024-08-05T18:23:34.189465Z",
     "iopub.status.idle": "2024-08-05T18:23:34.195109Z",
     "shell.execute_reply": "2024-08-05T18:23:34.194163Z"
    },
    "papermill": {
     "duration": 0.021512,
     "end_time": "2024-08-05T18:23:34.197146",
     "exception": false,
     "start_time": "2024-08-05T18:23:34.175634",
     "status": "completed"
    },
    "tags": []
   },
   "outputs": [],
   "source": [
    "def labels_to_target(labels):\n",
    "    res = torch.cat([torch.full((size,), label, dtype=torch.long) for label, size in labels])\n",
    "    res = F.one_hot(res).float()\n",
    "    return res\n",
    "    "
   ]
  },
  {
   "cell_type": "code",
   "execution_count": 10,
   "id": "b9d1c7b1",
   "metadata": {
    "execution": {
     "iopub.execute_input": "2024-08-05T18:23:34.223069Z",
     "iopub.status.busy": "2024-08-05T18:23:34.222761Z",
     "iopub.status.idle": "2024-08-05T18:23:34.283503Z",
     "shell.execute_reply": "2024-08-05T18:23:34.282505Z"
    },
    "papermill": {
     "duration": 0.076308,
     "end_time": "2024-08-05T18:23:34.285819",
     "exception": false,
     "start_time": "2024-08-05T18:23:34.209511",
     "status": "completed"
    },
    "tags": []
   },
   "outputs": [
    {
     "data": {
      "text/plain": [
       "tensor([[0., 0., 0., 0., 0., 0., 1., 0., 0., 0.],\n",
       "        [0., 1., 0., 0., 0., 0., 0., 0., 0., 0.],\n",
       "        [0., 1., 0., 0., 0., 0., 0., 0., 0., 0.],\n",
       "        [1., 0., 0., 0., 0., 0., 0., 0., 0., 0.],\n",
       "        [0., 0., 1., 0., 0., 0., 0., 0., 0., 0.]])"
      ]
     },
     "execution_count": 10,
     "metadata": {},
     "output_type": "execute_result"
    }
   ],
   "source": [
    "train_y = labels_to_target(train_labels)\n",
    "\n",
    "train_y[torch.randperm(len(train_y))[:5]]"
   ]
  },
  {
   "cell_type": "code",
   "execution_count": 11,
   "id": "19cced88",
   "metadata": {
    "execution": {
     "iopub.execute_input": "2024-08-05T18:23:34.312485Z",
     "iopub.status.busy": "2024-08-05T18:23:34.312096Z",
     "iopub.status.idle": "2024-08-05T18:23:34.319527Z",
     "shell.execute_reply": "2024-08-05T18:23:34.318564Z"
    },
    "papermill": {
     "duration": 0.023063,
     "end_time": "2024-08-05T18:23:34.321606",
     "exception": false,
     "start_time": "2024-08-05T18:23:34.298543",
     "status": "completed"
    },
    "tags": []
   },
   "outputs": [
    {
     "data": {
      "text/plain": [
       "tensor([0., 0., 1., 0., 0., 0., 0., 0., 0., 0.])"
      ]
     },
     "execution_count": 11,
     "metadata": {},
     "output_type": "execute_result"
    }
   ],
   "source": [
    "train_y[13000]"
   ]
  },
  {
   "cell_type": "markdown",
   "id": "4db45b9a",
   "metadata": {
    "papermill": {
     "duration": 0.012546,
     "end_time": "2024-08-05T18:23:34.347448",
     "exception": false,
     "start_time": "2024-08-05T18:23:34.334902",
     "status": "completed"
    },
    "tags": []
   },
   "source": [
    "Now the same for the test data:"
   ]
  },
  {
   "cell_type": "code",
   "execution_count": 12,
   "id": "8a543d96",
   "metadata": {
    "execution": {
     "iopub.execute_input": "2024-08-05T18:23:34.375110Z",
     "iopub.status.busy": "2024-08-05T18:23:34.374066Z",
     "iopub.status.idle": "2024-08-05T18:23:34.381357Z",
     "shell.execute_reply": "2024-08-05T18:23:34.380410Z"
    },
    "papermill": {
     "duration": 0.022988,
     "end_time": "2024-08-05T18:23:34.383450",
     "exception": false,
     "start_time": "2024-08-05T18:23:34.360462",
     "status": "completed"
    },
    "tags": []
   },
   "outputs": [
    {
     "data": {
      "text/plain": [
       "[(0, 980),\n",
       " (1, 1135),\n",
       " (2, 1032),\n",
       " (3, 1010),\n",
       " (4, 982),\n",
       " (5, 892),\n",
       " (6, 958),\n",
       " (7, 1028),\n",
       " (8, 974),\n",
       " (9, 1009)]"
      ]
     },
     "execution_count": 12,
     "metadata": {},
     "output_type": "execute_result"
    }
   ],
   "source": [
    "test_labels = list(enumerate(map(lambda t: t.shape[0], test_tensors)))\n",
    "test_labels"
   ]
  },
  {
   "cell_type": "code",
   "execution_count": 13,
   "id": "adae4480",
   "metadata": {
    "execution": {
     "iopub.execute_input": "2024-08-05T18:23:34.411406Z",
     "iopub.status.busy": "2024-08-05T18:23:34.410724Z",
     "iopub.status.idle": "2024-08-05T18:23:34.419776Z",
     "shell.execute_reply": "2024-08-05T18:23:34.418792Z"
    },
    "papermill": {
     "duration": 0.024896,
     "end_time": "2024-08-05T18:23:34.421780",
     "exception": false,
     "start_time": "2024-08-05T18:23:34.396884",
     "status": "completed"
    },
    "tags": []
   },
   "outputs": [
    {
     "data": {
      "text/plain": [
       "tensor([[0., 0., 0., 1., 0., 0., 0., 0., 0., 0.],\n",
       "        [0., 0., 0., 0., 1., 0., 0., 0., 0., 0.],\n",
       "        [0., 0., 0., 0., 0., 0., 0., 0., 0., 1.],\n",
       "        [0., 0., 0., 0., 1., 0., 0., 0., 0., 0.],\n",
       "        [0., 0., 0., 0., 1., 0., 0., 0., 0., 0.]])"
      ]
     },
     "execution_count": 13,
     "metadata": {},
     "output_type": "execute_result"
    }
   ],
   "source": [
    "test_y = labels_to_target(test_labels)\n",
    "\n",
    "test_y[torch.randperm(len(test_y))[:5]]"
   ]
  },
  {
   "cell_type": "markdown",
   "id": "960fbbcd",
   "metadata": {
    "papermill": {
     "duration": 0.012847,
     "end_time": "2024-08-05T18:23:34.449612",
     "exception": false,
     "start_time": "2024-08-05T18:23:34.436765",
     "status": "completed"
    },
    "tags": []
   },
   "source": [
    "We can now create the data sets and loaders. We'll use a splitter to split the train set between taining and validation sets."
   ]
  },
  {
   "cell_type": "code",
   "execution_count": 14,
   "id": "6e96733b",
   "metadata": {
    "execution": {
     "iopub.execute_input": "2024-08-05T18:23:34.477853Z",
     "iopub.status.busy": "2024-08-05T18:23:34.476971Z",
     "iopub.status.idle": "2024-08-05T18:23:34.868016Z",
     "shell.execute_reply": "2024-08-05T18:23:34.866777Z"
    },
    "papermill": {
     "duration": 0.40785,
     "end_time": "2024-08-05T18:23:34.870282",
     "exception": false,
     "start_time": "2024-08-05T18:23:34.462432",
     "status": "completed"
    },
    "tags": []
   },
   "outputs": [
    {
     "data": {
      "text/plain": [
       "(torch.Size([784]), tensor([1., 0., 0., 0., 0., 0., 0., 0., 0., 0.]))"
      ]
     },
     "execution_count": 14,
     "metadata": {},
     "output_type": "execute_result"
    }
   ],
   "source": [
    "dset = list(zip(train_x,train_y))\n",
    "x,y = dset[0]\n",
    "x.shape, y"
   ]
  },
  {
   "cell_type": "code",
   "execution_count": 15,
   "id": "ee5b7353",
   "metadata": {
    "execution": {
     "iopub.execute_input": "2024-08-05T18:23:34.899000Z",
     "iopub.status.busy": "2024-08-05T18:23:34.898262Z",
     "iopub.status.idle": "2024-08-05T18:23:34.924163Z",
     "shell.execute_reply": "2024-08-05T18:23:34.923134Z"
    },
    "papermill": {
     "duration": 0.042442,
     "end_time": "2024-08-05T18:23:34.926469",
     "exception": false,
     "start_time": "2024-08-05T18:23:34.884027",
     "status": "completed"
    },
    "tags": []
   },
   "outputs": [
    {
     "data": {
      "text/plain": [
       "(48000, 12000)"
      ]
     },
     "execution_count": 15,
     "metadata": {},
     "output_type": "execute_result"
    }
   ],
   "source": [
    "split = TrainTestSplitter(test_size=0.2, random_state=42)\n",
    "train_dset_indexes, val_dset_indexes = split(dset)\n",
    "len(train_dset_indexes), len(val_dset_indexes)"
   ]
  },
  {
   "cell_type": "code",
   "execution_count": 16,
   "id": "46a8d48f",
   "metadata": {
    "execution": {
     "iopub.execute_input": "2024-08-05T18:23:34.954415Z",
     "iopub.status.busy": "2024-08-05T18:23:34.954006Z",
     "iopub.status.idle": "2024-08-05T18:23:35.026709Z",
     "shell.execute_reply": "2024-08-05T18:23:35.025242Z"
    },
    "papermill": {
     "duration": 0.090891,
     "end_time": "2024-08-05T18:23:35.030740",
     "exception": false,
     "start_time": "2024-08-05T18:23:34.939849",
     "status": "completed"
    },
    "tags": []
   },
   "outputs": [
    {
     "name": "stdout",
     "output_type": "stream",
     "text": [
      "tensor([0., 0., 0., 0., 0., 0., 0., 0., 1., 0.])\n"
     ]
    },
    {
     "data": {
      "image/png": "[encoded data removed]",
      "text/plain": [
       "<Figure size 100x100 with 1 Axes>"
      ]
     },
     "metadata": {},
     "output_type": "display_data"
    }
   ],
   "source": [
    "train_dset = [dset[i] for i in train_dset_indexes]\n",
    "valid_dset = [dset[i] for i in val_dset_indexes]\n",
    "\n",
    "show_image(train_dset[0][0].view(28,28))\n",
    "print(train_dset[0][1])"
   ]
  },
  {
   "cell_type": "code",
   "execution_count": 17,
   "id": "b6ac6b57",
   "metadata": {
    "execution": {
     "iopub.execute_input": "2024-08-05T18:23:35.097815Z",
     "iopub.status.busy": "2024-08-05T18:23:35.097175Z",
     "iopub.status.idle": "2024-08-05T18:23:35.188226Z",
     "shell.execute_reply": "2024-08-05T18:23:35.187142Z"
    },
    "papermill": {
     "duration": 0.127421,
     "end_time": "2024-08-05T18:23:35.190348",
     "exception": false,
     "start_time": "2024-08-05T18:23:35.062927",
     "status": "completed"
    },
    "tags": []
   },
   "outputs": [
    {
     "data": {
      "text/plain": [
       "(torch.Size([256, 784]), torch.Size([256, 10]))"
      ]
     },
     "execution_count": 17,
     "metadata": {},
     "output_type": "execute_result"
    }
   ],
   "source": [
    "train_dl = DataLoader(train_dset, batch_size=256, shuffle=True)\n",
    "xb,yb = first(train_dl)\n",
    "xb.shape,yb.shape"
   ]
  },
  {
   "cell_type": "code",
   "execution_count": 18,
   "id": "d1812b50",
   "metadata": {
    "execution": {
     "iopub.execute_input": "2024-08-05T18:23:35.221525Z",
     "iopub.status.busy": "2024-08-05T18:23:35.220513Z",
     "iopub.status.idle": "2024-08-05T18:23:35.242813Z",
     "shell.execute_reply": "2024-08-05T18:23:35.241855Z"
    },
    "papermill": {
     "duration": 0.04043,
     "end_time": "2024-08-05T18:23:35.245114",
     "exception": false,
     "start_time": "2024-08-05T18:23:35.204684",
     "status": "completed"
    },
    "tags": []
   },
   "outputs": [
    {
     "data": {
      "text/plain": [
       "(torch.Size([256, 784]), torch.Size([256, 10]))"
      ]
     },
     "execution_count": 18,
     "metadata": {},
     "output_type": "execute_result"
    }
   ],
   "source": [
    "valid_dl = DataLoader(valid_dset, batch_size=256, shuffle=True)\n",
    "xb,yb = first(valid_dl)\n",
    "xb.shape,yb.shape"
   ]
  },
  {
   "cell_type": "markdown",
   "id": "d23bf773",
   "metadata": {
    "papermill": {
     "duration": 0.013782,
     "end_time": "2024-08-05T18:23:35.272862",
     "exception": false,
     "start_time": "2024-08-05T18:23:35.259080",
     "status": "completed"
    },
    "tags": []
   },
   "source": [
    "## SGD\n",
    "\n",
    "The training loop, based on the code from Chapter 4. One relevant difference is the use of `F.cross_entropy` as the loss function. "
   ]
  },
  {
   "cell_type": "code",
   "execution_count": 19,
   "id": "507b4541",
   "metadata": {
    "execution": {
     "iopub.execute_input": "2024-08-05T18:23:35.351050Z",
     "iopub.status.busy": "2024-08-05T18:23:35.350302Z",
     "iopub.status.idle": "2024-08-05T18:23:35.366025Z",
     "shell.execute_reply": "2024-08-05T18:23:35.365038Z"
    },
    "papermill": {
     "duration": 0.081129,
     "end_time": "2024-08-05T18:23:35.368213",
     "exception": false,
     "start_time": "2024-08-05T18:23:35.287084",
     "status": "completed"
    },
    "tags": []
   },
   "outputs": [],
   "source": [
    "from torch.nn import init\n",
    "    \n",
    "def init_lin_params(in_features, out_features, std=1.0): \n",
    "    w = (torch.randn((in_features, out_features))*std).requires_grad_()\n",
    "    b = (torch.randn(out_features)*std).requires_grad_()\n",
    "    return w, b\n",
    "\n",
    "\n",
    "# This replicates the Kaiming parameter initialization implemented in nn.Linear\n",
    "\n",
    "def init_lin_params_k(in_features, out_features):\n",
    "    w = torch.empty((in_features, out_features)).requires_grad_()\n",
    "    b = torch.empty(out_features).requires_grad_()\n",
    "    init.kaiming_uniform_(w.T, a=math.sqrt(5))\n",
    "    fan_in, _ = init._calculate_fan_in_and_fan_out(w)\n",
    "    bound = 1 / math.sqrt(fan_in) if fan_in > 0 else 0\n",
    "    init.uniform_(b, -bound, bound)\n",
    "    return w, b\n",
    "\n",
    "def calc_grad(xb, yb, model, lossf):\n",
    "    preds = model(xb)\n",
    "    loss = lossf(preds, yb)\n",
    "    loss.backward()\n",
    "    \n",
    "def train_epoch(model, lr, params, lossf):\n",
    "    for xb,yb in train_dl:\n",
    "        calc_grad(xb, yb, model, lossf)\n",
    "        for p in params:\n",
    "            p.data -= p.grad.data * lr\n",
    "            p.grad.zero_()\n",
    "            \n",
    "def batch_accuracy(xb, yb):\n",
    "    _, preds = torch.max(xb, dim=1)\n",
    "    _, target = torch.max(yb, dim=1)\n",
    "    return torch.tensor(torch.sum(preds == target).item() / len(preds))\n",
    "\n",
    "def validate_epoch(model):\n",
    "    accs = [batch_accuracy(model(xb), yb) for xb,yb in valid_dl]\n",
    "    return round(tensor(accs).mean().item(), 4)\n",
    "\n",
    "def train(model, params, lossf=F.cross_entropy, epochs=50, lr=1):\n",
    "    for i in range(epochs):\n",
    "        train_epoch(model, lr, params, lossf)\n",
    "        print(validate_epoch(model), end=' ')\n",
    "        \n",
    "def test(model):\n",
    "    acc = batch_accuracy(model(test_x), test_y).item()\n",
    "    return f\"{acc:.2f}%\""
   ]
  },
  {
   "cell_type": "markdown",
   "id": "115c5bac",
   "metadata": {
    "papermill": {
     "duration": 0.014339,
     "end_time": "2024-08-05T18:23:35.396388",
     "exception": false,
     "start_time": "2024-08-05T18:23:35.382049",
     "status": "completed"
    },
    "tags": []
   },
   "source": [
    "## Logistic regression\n",
    "\n",
    "First let's try to train a simple logistic regression model. Note that we're using the Kaming parameter initialization as we get faster convergence relative to random initialization. Also we're replacing `F.sigmoid` with `F.softmax`. Softmax transforms the output vector so that it can be interpreted as the probability of each class given an input. The cross entropy loss function assumes that the output vector can be interpreted as a probability distribution, so it is appropriate to use with the softmax activation function."
   ]
  },
  {
   "cell_type": "code",
   "execution_count": 20,
   "id": "fd09cfb4",
   "metadata": {
    "execution": {
     "iopub.execute_input": "2024-08-05T18:23:35.426529Z",
     "iopub.status.busy": "2024-08-05T18:23:35.425629Z",
     "iopub.status.idle": "2024-08-05T18:24:04.412540Z",
     "shell.execute_reply": "2024-08-05T18:24:04.411502Z"
    },
    "papermill": {
     "duration": 29.00423,
     "end_time": "2024-08-05T18:24:04.414724",
     "exception": false,
     "start_time": "2024-08-05T18:23:35.410494",
     "status": "completed"
    },
    "tags": []
   },
   "outputs": [
    {
     "name": "stdout",
     "output_type": "stream",
     "text": [
      "0.882 0.8962 0.9016 0.9046 0.9084 0.9094 0.9111 0.9113 0.9119 0.9138 0.9132 0.9145 0.9144 0.9159 0.9158 0.9157 0.9163 0.9174 0.9163 0.9176 0.9186 0.9177 0.9169 0.9184 0.9197 0.9199 0.9199 0.9195 0.9197 0.9193 0.92 0.9209 0.921 0.9205 0.9212 0.9221 0.9218 0.9215 0.9219 0.9212 0.9218 0.9233 0.9226 0.9234 0.9229 0.9231 0.9223 0.9234 0.9228 0.9225 "
     ]
    }
   ],
   "source": [
    "def log_reg(xb): \n",
    "    res = xb@w1 + b1\n",
    "    return F.softmax(res, dim=1)\n",
    "\n",
    "w1, b1 = init_lin_params_k(28*28,10)\n",
    "\n",
    "train(log_reg, (w1, b1))"
   ]
  },
  {
   "cell_type": "markdown",
   "id": "0764c28e",
   "metadata": {
    "papermill": {
     "duration": 0.018046,
     "end_time": "2024-08-05T18:24:04.451534",
     "exception": false,
     "start_time": "2024-08-05T18:24:04.433488",
     "status": "completed"
    },
    "tags": []
   },
   "source": [
    "Let's check accuracy with the test set:"
   ]
  },
  {
   "cell_type": "code",
   "execution_count": 21,
   "id": "e981e4fc",
   "metadata": {
    "execution": {
     "iopub.execute_input": "2024-08-05T18:24:04.491430Z",
     "iopub.status.busy": "2024-08-05T18:24:04.490711Z",
     "iopub.status.idle": "2024-08-05T18:24:04.505006Z",
     "shell.execute_reply": "2024-08-05T18:24:04.503719Z"
    },
    "papermill": {
     "duration": 0.037228,
     "end_time": "2024-08-05T18:24:04.507185",
     "exception": false,
     "start_time": "2024-08-05T18:24:04.469957",
     "status": "completed"
    },
    "tags": []
   },
   "outputs": [
    {
     "name": "stdout",
     "output_type": "stream",
     "text": [
      "0.93%\n"
     ]
    }
   ],
   "source": [
    "print(test(log_reg))"
   ]
  },
  {
   "cell_type": "markdown",
   "id": "93a22edf",
   "metadata": {
    "papermill": {
     "duration": 0.018516,
     "end_time": "2024-08-05T18:24:04.544151",
     "exception": false,
     "start_time": "2024-08-05T18:24:04.525635",
     "status": "completed"
    },
    "tags": []
   },
   "source": [
    "We usually get above 92% with a simple logistic regression model, not bad! Let's see if we get a better result using a model with two layers."
   ]
  },
  {
   "cell_type": "markdown",
   "id": "bad689d9",
   "metadata": {
    "papermill": {
     "duration": 0.019506,
     "end_time": "2024-08-05T18:24:04.582839",
     "exception": false,
     "start_time": "2024-08-05T18:24:04.563333",
     "status": "completed"
    },
    "tags": []
   },
   "source": [
    "## Two layer net"
   ]
  },
  {
   "cell_type": "code",
   "execution_count": 22,
   "id": "b1a6a2d1",
   "metadata": {
    "execution": {
     "iopub.execute_input": "2024-08-05T18:24:04.621206Z",
     "iopub.status.busy": "2024-08-05T18:24:04.620323Z",
     "iopub.status.idle": "2024-08-05T18:24:36.751545Z",
     "shell.execute_reply": "2024-08-05T18:24:36.750390Z"
    },
    "papermill": {
     "duration": 32.152891,
     "end_time": "2024-08-05T18:24:36.753813",
     "exception": false,
     "start_time": "2024-08-05T18:24:04.600922",
     "status": "completed"
    },
    "tags": []
   },
   "outputs": [
    {
     "name": "stdout",
     "output_type": "stream",
     "text": [
      "0.7454 0.753 0.8297 0.8403 0.8366 0.8494 0.8475 0.8511 0.8506 0.8545 0.8566 0.8572 0.8569 0.8591 0.8601 0.8621 0.8627 0.8639 0.861 0.8639 0.8646 0.8639 0.8653 0.8655 0.866 0.8673 0.8669 0.8676 0.8683 0.8675 0.8686 0.8692 0.8685 0.8696 0.869 0.8697 0.8683 0.8705 0.87 0.8703 0.871 0.8708 0.8713 0.871 0.8709 0.8722 0.8715 0.8721 0.8721 0.8731 "
     ]
    }
   ],
   "source": [
    "def two_layer_net(xb): \n",
    "    res = xb@w2 + b2\n",
    "    res = res.max(tensor(0.0))\n",
    "    res = res@w3 + b3\n",
    "    res = F.softmax(res, dim=1)\n",
    "    return res\n",
    "\n",
    "w2, b2 = init_lin_params_k(28*28, 32)\n",
    "w3, b3 = init_lin_params_k(32, 10)\n",
    "\n",
    "train(two_layer_net, (w2, b2, w3, b3), epochs=50)"
   ]
  },
  {
   "cell_type": "markdown",
   "id": "e906109d",
   "metadata": {
    "papermill": {
     "duration": 0.022187,
     "end_time": "2024-08-05T18:24:36.799582",
     "exception": false,
     "start_time": "2024-08-05T18:24:36.777395",
     "status": "completed"
    },
    "tags": []
   },
   "source": [
    "Let's check with the test set."
   ]
  },
  {
   "cell_type": "code",
   "execution_count": 23,
   "id": "d03c8024",
   "metadata": {
    "execution": {
     "iopub.execute_input": "2024-08-05T18:24:36.846977Z",
     "iopub.status.busy": "2024-08-05T18:24:36.846554Z",
     "iopub.status.idle": "2024-08-05T18:24:36.858283Z",
     "shell.execute_reply": "2024-08-05T18:24:36.857277Z"
    },
    "papermill": {
     "duration": 0.038174,
     "end_time": "2024-08-05T18:24:36.860539",
     "exception": false,
     "start_time": "2024-08-05T18:24:36.822365",
     "status": "completed"
    },
    "tags": []
   },
   "outputs": [
    {
     "name": "stdout",
     "output_type": "stream",
     "text": [
      "0.87%\n"
     ]
    }
   ],
   "source": [
    "print(test(two_layer_net))"
   ]
  },
  {
   "cell_type": "markdown",
   "id": "86eb6f99",
   "metadata": {
    "papermill": {
     "duration": 0.022254,
     "end_time": "2024-08-05T18:24:36.907353",
     "exception": false,
     "start_time": "2024-08-05T18:24:36.885099",
     "status": "completed"
    },
    "tags": []
   },
   "source": [
    "With the two layer model we're getting accuracy above 95%. This is in line with the results obtained here with a similar model: [Multi-class classification with MNIST](https://colab.research.google.com/github/google/eng-edu/blob/main/ml/cc/exercises/multi-class_classification_with_MNIST.ipynb?hl=en#scrollTo=pedD5GhlDC-y)."
   ]
  },
  {
   "cell_type": "markdown",
   "id": "5ff7f1d5",
   "metadata": {
    "papermill": {
     "duration": 0.021978,
     "end_time": "2024-08-05T18:24:36.951360",
     "exception": false,
     "start_time": "2024-08-05T18:24:36.929382",
     "status": "completed"
    },
    "tags": []
   },
   "source": [
    "## Using a Learner / PyTorch Modules\n",
    "\n",
    "Using a Learner and Pytorch modules we essentially get the same results."
   ]
  },
  {
   "cell_type": "code",
   "execution_count": 24,
   "id": "cd98b749",
   "metadata": {
    "execution": {
     "iopub.execute_input": "2024-08-05T18:24:36.997364Z",
     "iopub.status.busy": "2024-08-05T18:24:36.996717Z",
     "iopub.status.idle": "2024-08-05T18:24:37.004948Z",
     "shell.execute_reply": "2024-08-05T18:24:37.004047Z"
    },
    "papermill": {
     "duration": 0.033518,
     "end_time": "2024-08-05T18:24:37.007190",
     "exception": false,
     "start_time": "2024-08-05T18:24:36.973672",
     "status": "completed"
    },
    "tags": []
   },
   "outputs": [],
   "source": [
    "import torch.nn as nn\n",
    "\n",
    "two_layer_nn = nn.Sequential(\n",
    "    nn.Linear(28*28, 32),\n",
    "    nn.ReLU(),\n",
    "    nn.Linear(32,10),\n",
    "    nn.Softmax(dim=1)\n",
    ")\n",
    "\n",
    "dls = DataLoaders(train_dl, valid_dl)\n",
    "\n",
    "learn = Learner(dls, two_layer_nn, opt_func=SGD,\n",
    "                loss_func=F.cross_entropy, metrics=batch_accuracy)"
   ]
  },
  {
   "cell_type": "code",
   "execution_count": 25,
   "id": "083501df",
   "metadata": {
    "execution": {
     "iopub.execute_input": "2024-08-05T18:24:37.053945Z",
     "iopub.status.busy": "2024-08-05T18:24:37.053580Z",
     "iopub.status.idle": "2024-08-05T18:25:26.789955Z",
     "shell.execute_reply": "2024-08-05T18:25:26.788987Z"
    },
    "papermill": {
     "duration": 49.762207,
     "end_time": "2024-08-05T18:25:26.792296",
     "exception": false,
     "start_time": "2024-08-05T18:24:37.030089",
     "status": "completed"
    },
    "tags": []
   },
   "outputs": [
    {
     "data": {
      "text/html": [
       "\n",
       "<style>\n",
       "    /* Turns off some styling */\n",
       "    progress {\n",
       "        /* gets rid of default border in Firefox and Opera. */\n",
       "        border: none;\n",
       "        /* Needs to be in here for Safari polyfill so background images work as expected. */\n",
       "        background-size: auto;\n",
       "    }\n",
       "    progress:not([value]), progress:not([value])::-webkit-progress-bar {\n",
       "        background: repeating-linear-gradient(45deg, #7e7e7e, #7e7e7e 10px, #5c5c5c 10px, #5c5c5c 20px);\n",
       "    }\n",
       "    .progress-bar-interrupted, .progress-bar-interrupted::-webkit-progress-bar {\n",
       "        background: #F44336;\n",
       "    }\n",
       "</style>\n"
      ],
      "text/plain": [
       "<IPython.core.display.HTML object>"
      ]
     },
     "metadata": {},
     "output_type": "display_data"
    },
    {
     "data": {
      "text/html": [
       "<table border=\"1\" class=\"dataframe\">\n",
       "  <thead>\n",
       "    <tr style=\"text-align: left;\">\n",
       "      <th>epoch</th>\n",
       "      <th>train_loss</th>\n",
       "      <th>valid_loss</th>\n",
       "      <th>batch_accuracy</th>\n",
       "      <th>time</th>\n",
       "    </tr>\n",
       "  </thead>\n",
       "  <tbody>\n",
       "    <tr>\n",
       "      <td>0</td>\n",
       "      <td>1.679848</td>\n",
       "      <td>1.652141</td>\n",
       "      <td>0.823833</td>\n",
       "      <td>00:00</td>\n",
       "    </tr>\n",
       "    <tr>\n",
       "      <td>1</td>\n",
       "      <td>1.635012</td>\n",
       "      <td>1.638454</td>\n",
       "      <td>0.829500</td>\n",
       "      <td>00:00</td>\n",
       "    </tr>\n",
       "    <tr>\n",
       "      <td>2</td>\n",
       "      <td>1.627853</td>\n",
       "      <td>1.628680</td>\n",
       "      <td>0.838167</td>\n",
       "      <td>00:00</td>\n",
       "    </tr>\n",
       "    <tr>\n",
       "      <td>3</td>\n",
       "      <td>1.625863</td>\n",
       "      <td>1.622512</td>\n",
       "      <td>0.843417</td>\n",
       "      <td>00:01</td>\n",
       "    </tr>\n",
       "    <tr>\n",
       "      <td>4</td>\n",
       "      <td>1.621568</td>\n",
       "      <td>1.621622</td>\n",
       "      <td>0.842750</td>\n",
       "      <td>00:01</td>\n",
       "    </tr>\n",
       "    <tr>\n",
       "      <td>5</td>\n",
       "      <td>1.612862</td>\n",
       "      <td>1.615918</td>\n",
       "      <td>0.848667</td>\n",
       "      <td>00:01</td>\n",
       "    </tr>\n",
       "    <tr>\n",
       "      <td>6</td>\n",
       "      <td>1.614815</td>\n",
       "      <td>1.615398</td>\n",
       "      <td>0.847833</td>\n",
       "      <td>00:01</td>\n",
       "    </tr>\n",
       "    <tr>\n",
       "      <td>7</td>\n",
       "      <td>1.609027</td>\n",
       "      <td>1.613006</td>\n",
       "      <td>0.850167</td>\n",
       "      <td>00:01</td>\n",
       "    </tr>\n",
       "    <tr>\n",
       "      <td>8</td>\n",
       "      <td>1.605884</td>\n",
       "      <td>1.611413</td>\n",
       "      <td>0.851750</td>\n",
       "      <td>00:01</td>\n",
       "    </tr>\n",
       "    <tr>\n",
       "      <td>9</td>\n",
       "      <td>1.603771</td>\n",
       "      <td>1.608826</td>\n",
       "      <td>0.853667</td>\n",
       "      <td>00:01</td>\n",
       "    </tr>\n",
       "    <tr>\n",
       "      <td>10</td>\n",
       "      <td>1.604563</td>\n",
       "      <td>1.608479</td>\n",
       "      <td>0.855083</td>\n",
       "      <td>00:01</td>\n",
       "    </tr>\n",
       "    <tr>\n",
       "      <td>11</td>\n",
       "      <td>1.599870</td>\n",
       "      <td>1.605737</td>\n",
       "      <td>0.856500</td>\n",
       "      <td>00:00</td>\n",
       "    </tr>\n",
       "    <tr>\n",
       "      <td>12</td>\n",
       "      <td>1.595919</td>\n",
       "      <td>1.605175</td>\n",
       "      <td>0.857417</td>\n",
       "      <td>00:01</td>\n",
       "    </tr>\n",
       "    <tr>\n",
       "      <td>13</td>\n",
       "      <td>1.598849</td>\n",
       "      <td>1.603403</td>\n",
       "      <td>0.858250</td>\n",
       "      <td>00:00</td>\n",
       "    </tr>\n",
       "    <tr>\n",
       "      <td>14</td>\n",
       "      <td>1.594767</td>\n",
       "      <td>1.602640</td>\n",
       "      <td>0.859250</td>\n",
       "      <td>00:00</td>\n",
       "    </tr>\n",
       "    <tr>\n",
       "      <td>15</td>\n",
       "      <td>1.594348</td>\n",
       "      <td>1.604719</td>\n",
       "      <td>0.858500</td>\n",
       "      <td>00:01</td>\n",
       "    </tr>\n",
       "    <tr>\n",
       "      <td>16</td>\n",
       "      <td>1.591821</td>\n",
       "      <td>1.600432</td>\n",
       "      <td>0.861833</td>\n",
       "      <td>00:00</td>\n",
       "    </tr>\n",
       "    <tr>\n",
       "      <td>17</td>\n",
       "      <td>1.591401</td>\n",
       "      <td>1.602511</td>\n",
       "      <td>0.859250</td>\n",
       "      <td>00:00</td>\n",
       "    </tr>\n",
       "    <tr>\n",
       "      <td>18</td>\n",
       "      <td>1.590849</td>\n",
       "      <td>1.600768</td>\n",
       "      <td>0.860667</td>\n",
       "      <td>00:00</td>\n",
       "    </tr>\n",
       "    <tr>\n",
       "      <td>19</td>\n",
       "      <td>1.590356</td>\n",
       "      <td>1.599926</td>\n",
       "      <td>0.861500</td>\n",
       "      <td>00:00</td>\n",
       "    </tr>\n",
       "    <tr>\n",
       "      <td>20</td>\n",
       "      <td>1.586597</td>\n",
       "      <td>1.597845</td>\n",
       "      <td>0.863667</td>\n",
       "      <td>00:00</td>\n",
       "    </tr>\n",
       "    <tr>\n",
       "      <td>21</td>\n",
       "      <td>1.588951</td>\n",
       "      <td>1.599254</td>\n",
       "      <td>0.862750</td>\n",
       "      <td>00:00</td>\n",
       "    </tr>\n",
       "    <tr>\n",
       "      <td>22</td>\n",
       "      <td>1.588560</td>\n",
       "      <td>1.596672</td>\n",
       "      <td>0.864667</td>\n",
       "      <td>00:00</td>\n",
       "    </tr>\n",
       "    <tr>\n",
       "      <td>23</td>\n",
       "      <td>1.587125</td>\n",
       "      <td>1.597438</td>\n",
       "      <td>0.864167</td>\n",
       "      <td>00:00</td>\n",
       "    </tr>\n",
       "    <tr>\n",
       "      <td>24</td>\n",
       "      <td>1.586462</td>\n",
       "      <td>1.596006</td>\n",
       "      <td>0.865417</td>\n",
       "      <td>00:00</td>\n",
       "    </tr>\n",
       "    <tr>\n",
       "      <td>25</td>\n",
       "      <td>1.585059</td>\n",
       "      <td>1.597182</td>\n",
       "      <td>0.863583</td>\n",
       "      <td>00:00</td>\n",
       "    </tr>\n",
       "    <tr>\n",
       "      <td>26</td>\n",
       "      <td>1.582853</td>\n",
       "      <td>1.595131</td>\n",
       "      <td>0.866000</td>\n",
       "      <td>00:00</td>\n",
       "    </tr>\n",
       "    <tr>\n",
       "      <td>27</td>\n",
       "      <td>1.582553</td>\n",
       "      <td>1.595812</td>\n",
       "      <td>0.865333</td>\n",
       "      <td>00:00</td>\n",
       "    </tr>\n",
       "    <tr>\n",
       "      <td>28</td>\n",
       "      <td>1.580304</td>\n",
       "      <td>1.593516</td>\n",
       "      <td>0.867167</td>\n",
       "      <td>00:00</td>\n",
       "    </tr>\n",
       "    <tr>\n",
       "      <td>29</td>\n",
       "      <td>1.582052</td>\n",
       "      <td>1.593575</td>\n",
       "      <td>0.866833</td>\n",
       "      <td>00:00</td>\n",
       "    </tr>\n",
       "    <tr>\n",
       "      <td>30</td>\n",
       "      <td>1.582088</td>\n",
       "      <td>1.593515</td>\n",
       "      <td>0.867500</td>\n",
       "      <td>00:00</td>\n",
       "    </tr>\n",
       "    <tr>\n",
       "      <td>31</td>\n",
       "      <td>1.579156</td>\n",
       "      <td>1.593024</td>\n",
       "      <td>0.867417</td>\n",
       "      <td>00:00</td>\n",
       "    </tr>\n",
       "    <tr>\n",
       "      <td>32</td>\n",
       "      <td>1.580824</td>\n",
       "      <td>1.592746</td>\n",
       "      <td>0.869167</td>\n",
       "      <td>00:00</td>\n",
       "    </tr>\n",
       "    <tr>\n",
       "      <td>33</td>\n",
       "      <td>1.580103</td>\n",
       "      <td>1.593904</td>\n",
       "      <td>0.866667</td>\n",
       "      <td>00:00</td>\n",
       "    </tr>\n",
       "    <tr>\n",
       "      <td>34</td>\n",
       "      <td>1.579047</td>\n",
       "      <td>1.592412</td>\n",
       "      <td>0.868917</td>\n",
       "      <td>00:00</td>\n",
       "    </tr>\n",
       "    <tr>\n",
       "      <td>35</td>\n",
       "      <td>1.578251</td>\n",
       "      <td>1.592201</td>\n",
       "      <td>0.868417</td>\n",
       "      <td>00:01</td>\n",
       "    </tr>\n",
       "    <tr>\n",
       "      <td>36</td>\n",
       "      <td>1.579485</td>\n",
       "      <td>1.591181</td>\n",
       "      <td>0.870000</td>\n",
       "      <td>00:00</td>\n",
       "    </tr>\n",
       "    <tr>\n",
       "      <td>37</td>\n",
       "      <td>1.576903</td>\n",
       "      <td>1.590994</td>\n",
       "      <td>0.869750</td>\n",
       "      <td>00:00</td>\n",
       "    </tr>\n",
       "    <tr>\n",
       "      <td>38</td>\n",
       "      <td>1.579041</td>\n",
       "      <td>1.593146</td>\n",
       "      <td>0.867500</td>\n",
       "      <td>00:01</td>\n",
       "    </tr>\n",
       "    <tr>\n",
       "      <td>39</td>\n",
       "      <td>1.581376</td>\n",
       "      <td>1.591756</td>\n",
       "      <td>0.868500</td>\n",
       "      <td>00:01</td>\n",
       "    </tr>\n",
       "    <tr>\n",
       "      <td>40</td>\n",
       "      <td>1.577639</td>\n",
       "      <td>1.590692</td>\n",
       "      <td>0.870333</td>\n",
       "      <td>00:00</td>\n",
       "    </tr>\n",
       "    <tr>\n",
       "      <td>41</td>\n",
       "      <td>1.580703</td>\n",
       "      <td>1.590453</td>\n",
       "      <td>0.870083</td>\n",
       "      <td>00:00</td>\n",
       "    </tr>\n",
       "    <tr>\n",
       "      <td>42</td>\n",
       "      <td>1.578718</td>\n",
       "      <td>1.590520</td>\n",
       "      <td>0.870083</td>\n",
       "      <td>00:00</td>\n",
       "    </tr>\n",
       "    <tr>\n",
       "      <td>43</td>\n",
       "      <td>1.577086</td>\n",
       "      <td>1.590559</td>\n",
       "      <td>0.870250</td>\n",
       "      <td>00:00</td>\n",
       "    </tr>\n",
       "    <tr>\n",
       "      <td>44</td>\n",
       "      <td>1.577856</td>\n",
       "      <td>1.591061</td>\n",
       "      <td>0.869333</td>\n",
       "      <td>00:01</td>\n",
       "    </tr>\n",
       "    <tr>\n",
       "      <td>45</td>\n",
       "      <td>1.576251</td>\n",
       "      <td>1.589810</td>\n",
       "      <td>0.870750</td>\n",
       "      <td>00:01</td>\n",
       "    </tr>\n",
       "    <tr>\n",
       "      <td>46</td>\n",
       "      <td>1.575051</td>\n",
       "      <td>1.590139</td>\n",
       "      <td>0.871167</td>\n",
       "      <td>00:00</td>\n",
       "    </tr>\n",
       "    <tr>\n",
       "      <td>47</td>\n",
       "      <td>1.576742</td>\n",
       "      <td>1.589689</td>\n",
       "      <td>0.870833</td>\n",
       "      <td>00:00</td>\n",
       "    </tr>\n",
       "    <tr>\n",
       "      <td>48</td>\n",
       "      <td>1.575547</td>\n",
       "      <td>1.590426</td>\n",
       "      <td>0.871083</td>\n",
       "      <td>00:00</td>\n",
       "    </tr>\n",
       "    <tr>\n",
       "      <td>49</td>\n",
       "      <td>1.573875</td>\n",
       "      <td>1.590051</td>\n",
       "      <td>0.871333</td>\n",
       "      <td>00:00</td>\n",
       "    </tr>\n",
       "  </tbody>\n",
       "</table>"
      ],
      "text/plain": [
       "<IPython.core.display.HTML object>"
      ]
     },
     "metadata": {},
     "output_type": "display_data"
    }
   ],
   "source": [
    "learn.fit(50, 1)"
   ]
  },
  {
   "cell_type": "code",
   "execution_count": 26,
   "id": "73d5f2b7",
   "metadata": {
    "execution": {
     "iopub.execute_input": "2024-08-05T18:25:26.845001Z",
     "iopub.status.busy": "2024-08-05T18:25:26.844077Z",
     "iopub.status.idle": "2024-08-05T18:25:26.857421Z",
     "shell.execute_reply": "2024-08-05T18:25:26.856007Z"
    },
    "papermill": {
     "duration": 0.042303,
     "end_time": "2024-08-05T18:25:26.859813",
     "exception": false,
     "start_time": "2024-08-05T18:25:26.817510",
     "status": "completed"
    },
    "tags": []
   },
   "outputs": [
    {
     "name": "stdout",
     "output_type": "stream",
     "text": [
      "0.87%\n"
     ]
    }
   ],
   "source": [
    "print(test(two_layer_nn))"
   ]
  },
  {
   "cell_type": "markdown",
   "id": "4ec26a4f",
   "metadata": {
    "papermill": {
     "duration": 0.022923,
     "end_time": "2024-08-05T18:25:26.907484",
     "exception": false,
     "start_time": "2024-08-05T18:25:26.884561",
     "status": "completed"
    },
    "tags": []
   },
   "source": [
    "## References\n",
    "\n",
    "[Deep Learning for Coders with Fastai and PyTorch - Chapter 4](https://github.com/fastai/fastbook/blob/master/04_mnist_basics.ipynb)\n",
    "\n",
    "[Multi-class classification with MNIST](https://colab.research.google.com/github/google/eng-edu/blob/main/ml/cc/exercises/multi-class_classification_with_MNIST.ipynb?hl=en#scrollTo=pedD5GhlDC-y)\n"
   ]
  }
 ],
 "metadata": {
  "kaggle": {
   "accelerator": "gpu",
   "dataSources": [],
   "dockerImageVersionId": 30746,
   "isGpuEnabled": true,
   "isInternetEnabled": true,
   "language": "python",
   "sourceType": "notebook"
  },
  "kernelspec": {
   "display_name": "Python 3",
   "language": "python",
   "name": "python3"
  },
  "language_info": {
   "codemirror_mode": {
    "name": "ipython",
    "version": 3
   },
   "file_extension": ".py",
   "mimetype": "text/x-python",
   "name": "python",
   "nbconvert_exporter": "python",
   "pygments_lexer": "ipython3",
   "version": "3.10.13"
  },
  "papermill": {
   "default_parameters": {},
   "duration": 184.37456,
   "end_time": "2024-08-05T18:25:29.740542",
   "environment_variables": {},
   "exception": null,
   "input_path": "__notebook__.ipynb",
   "output_path": "__notebook__.ipynb",
   "parameters": {},
   "start_time": "2024-08-05T18:22:25.365982",
   "version": "2.5.0"
  }
 },
 "nbformat": 4,
 "nbformat_minor": 5
}
